{
 "cells": [
  {
   "cell_type": "code",
   "execution_count": null,
   "id": "7ad4fe6b",
   "metadata": {},
   "outputs": [],
   "source": [
    "# Create class with product name with attribite(product name,brand name,model name,price)"
   ]
  },
  {
   "cell_type": "code",
   "execution_count": 54,
   "id": "1e874749",
   "metadata": {},
   "outputs": [],
   "source": [
    "class Product:\n",
    "    def __init__(Self,product_name,brand_name,model_name,price):\n",
    "        Self.product_name = product_name\n",
    "        Self.brand_name = brand_name\n",
    "        Self.model_name = model_name\n",
    "        Self.price = price\n",
    "        Self.productnamewithModel=product_name +\" \"+ model_name"
   ]
  },
  {
   "cell_type": "code",
   "execution_count": 55,
   "id": "614b5af4",
   "metadata": {},
   "outputs": [],
   "source": [
    "Laptop=Product(\"Laptop\",\"dell\",\"M46832\",58000)"
   ]
  },
  {
   "cell_type": "code",
   "execution_count": 56,
   "id": "de0a01b7",
   "metadata": {},
   "outputs": [],
   "source": [
    "Mobile=Product(\"Mobile\",\"Samsung\",\"A7\",50000)"
   ]
  },
  {
   "cell_type": "code",
   "execution_count": 57,
   "id": "c5fd1733",
   "metadata": {},
   "outputs": [
    {
     "data": {
      "text/plain": [
       "'Laptop'"
      ]
     },
     "execution_count": 57,
     "metadata": {},
     "output_type": "execute_result"
    }
   ],
   "source": [
    "Laptop.product_name"
   ]
  },
  {
   "cell_type": "code",
   "execution_count": 58,
   "id": "04b27da0",
   "metadata": {},
   "outputs": [
    {
     "data": {
      "text/plain": [
       "'M46832'"
      ]
     },
     "execution_count": 58,
     "metadata": {},
     "output_type": "execute_result"
    }
   ],
   "source": [
    "Laptop.model_name"
   ]
  },
  {
   "cell_type": "code",
   "execution_count": 59,
   "id": "e9236e8b",
   "metadata": {},
   "outputs": [
    {
     "data": {
      "text/plain": [
       "'Mobile A7'"
      ]
     },
     "execution_count": 59,
     "metadata": {},
     "output_type": "execute_result"
    }
   ],
   "source": [
    "Mobile.productnamewithModel"
   ]
  },
  {
   "cell_type": "code",
   "execution_count": 60,
   "id": "e891822f",
   "metadata": {},
   "outputs": [
    {
     "data": {
      "text/plain": [
       "'M46832'"
      ]
     },
     "execution_count": 60,
     "metadata": {},
     "output_type": "execute_result"
    }
   ],
   "source": [
    "Laptop.model_name"
   ]
  },
  {
   "cell_type": "code",
   "execution_count": 63,
   "id": "259b9d59",
   "metadata": {},
   "outputs": [
    {
     "data": {
      "text/plain": [
       "'Laptop M46832'"
      ]
     },
     "execution_count": 63,
     "metadata": {},
     "output_type": "execute_result"
    }
   ],
   "source": [
    "Laptop.productnamewithModel"
   ]
  },
  {
   "cell_type": "code",
   "execution_count": null,
   "id": "f4e3196f",
   "metadata": {},
   "outputs": [],
   "source": []
  }
 ],
 "metadata": {
  "kernelspec": {
   "display_name": "Python 3 (ipykernel)",
   "language": "python",
   "name": "python3"
  },
  "language_info": {
   "codemirror_mode": {
    "name": "ipython",
    "version": 3
   },
   "file_extension": ".py",
   "mimetype": "text/x-python",
   "name": "python",
   "nbconvert_exporter": "python",
   "pygments_lexer": "ipython3",
   "version": "3.9.13"
  }
 },
 "nbformat": 4,
 "nbformat_minor": 5
}
